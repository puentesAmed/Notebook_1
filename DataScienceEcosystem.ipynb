{
 "cells": [
  {
   "cell_type": "markdown",
   "id": "77428c10-b531-4e2b-9797-148284220c43",
   "metadata": {},
   "source": [
    "# Data Science Tools and Ecosystem"
   ]
  },
  {
   "cell_type": "markdown",
   "id": "a07d1a47-c81b-4f0d-b7eb-8df7cf06eceb",
   "metadata": {},
   "source": [
    "In this notebook, Data Science Tolls and Ecosystem are summarized."
   ]
  },
  {
   "cell_type": "markdown",
   "id": "b764b00a-0e00-467f-b572-9a4f6ed80e91",
   "metadata": {},
   "source": [
    "**Objectives:**\n",
    "\n",
    "  - List popular languages for Data Science.\n",
    "  - List the commonly used libraries by Data Scientists.\n",
    "  - List the Data Sciebce Tools.\n",
    "\n",
    "## Author\n",
    "Amed Puentes Padrón"
   ]
  },
  {
   "cell_type": "markdown",
   "id": "0e9bbf00-d8f5-4ba6-9a7d-cf37811805bc",
   "metadata": {},
   "source": [
    "Some of the popular languages that Data Scientists use are:"
   ]
  },
  {
   "cell_type": "markdown",
   "id": "a72e0468-8a83-439b-8250-24f22b245b40",
   "metadata": {},
   "source": [
    "1.Python.\n",
    "2.R.\n",
    "3.SQL.\n",
    "4.Scala.\n",
    "5.Java.\n",
    "6.Julia.\n",
    "7.C++."
   ]
  },
  {
   "cell_type": "markdown",
   "id": "7eb4bb74-d354-42af-94b2-1ca0b683ec77",
   "metadata": {},
   "source": [
    "Some of the commonly used libraries used by Data Scientists include:"
   ]
  },
  {
   "cell_type": "markdown",
   "id": "1ad5aa26-e016-4cd3-abbf-928188b3e475",
   "metadata": {},
   "source": [
    "1.Pandas.\n",
    "2.NumPy.\n",
    "3.SciPy.\n",
    "4.MLlib.\n",
    "5.Matplotlib."
   ]
  },
  {
   "cell_type": "markdown",
   "id": "87d3872c-f4bf-4f1c-93d8-47eb8190623d",
   "metadata": {},
   "source": [
    "| Data Science Tools |\n",
    "|--------------------|\n",
    "| Jupyter Notebook   |\n",
    "| RStudio            |\n",
    "| PyCharm            |\n"
   ]
  },
  {
   "cell_type": "markdown",
   "id": "11053727-b16c-4274-bb23-98e38759c07f",
   "metadata": {},
   "source": [
    "### Below are a few examples of evaluating arithmetic expressions in Python"
   ]
  },
  {
   "cell_type": "code",
   "execution_count": 5,
   "id": "6de2013d-93a6-4b9f-a1d1-b1c3ec061a76",
   "metadata": {},
   "outputs": [
    {
     "data": {
      "text/plain": [
       "17"
      ]
     },
     "execution_count": 5,
     "metadata": {},
     "output_type": "execute_result"
    }
   ],
   "source": [
    "#This a simple arithmetic expression to mutiply then add integers\n",
    "(3*4)+5"
   ]
  },
  {
   "cell_type": "code",
   "execution_count": 7,
   "id": "ac3c51bb-1b94-4da3-99c7-4393d51d588b",
   "metadata": {
    "scrolled": true
   },
   "outputs": [
    {
     "data": {
      "text/plain": [
       "3.3333333333333335"
      ]
     },
     "execution_count": 7,
     "metadata": {},
     "output_type": "execute_result"
    }
   ],
   "source": [
    "# This will convert 200 minutes to hours by diving by 60\n",
    "200/60"
   ]
  }
 ],
 "metadata": {
  "kernelspec": {
   "display_name": "Python 3 (ipykernel)",
   "language": "python",
   "name": "python3"
  },
  "language_info": {
   "codemirror_mode": {
    "name": "ipython",
    "version": 3
   },
   "file_extension": ".py",
   "mimetype": "text/x-python",
   "name": "python",
   "nbconvert_exporter": "python",
   "pygments_lexer": "ipython3",
   "version": "3.12.4"
  }
 },
 "nbformat": 4,
 "nbformat_minor": 5
}
